{
 "cells": [
  {
   "cell_type": "markdown",
   "id": "56dd265e-c31b-4029-bf2c-22fca50b8585",
   "metadata": {},
   "source": [
    "# Predicting Toronto Ferry Activity"
   ]
  },
  {
   "cell_type": "code",
   "execution_count": null,
   "id": "0c37d269-ab8b-44be-9ddd-d60e63d837c2",
   "metadata": {},
   "outputs": [],
   "source": [
    "from Model import RedemptionModel \n",
    "import pandas as pd "
   ]
  },
  {
   "cell_type": "code",
   "execution_count": null,
   "id": "1cdc19d2-0663-4a1b-ad77-06822c8426f0",
   "metadata": {},
   "outputs": [],
   "source": [
    "def load_data(file):\n",
    "    # generic data processing function\n",
    "    df = pd.read_csv(file,\n",
    "                dtype={'_id':int, 'Redemption Count': int, 'Sales Count':int},\n",
    "                parse_dates=['Timestamp'])\n",
    "    df.sort_values('Timestamp', inplace=True)\n",
    "    # convert to time-aware\n",
    "    df.set_index('Timestamp', inplace=True)\n",
    "    df_daily = df.resample('d').sum()\n",
    "    # engineer some time features \n",
    "    df_daily['monthly'] = df_daily.reset_index().Timestamp.dt.month.values\n",
    "    df_daily['quarter'] = df_daily.reset_index().Timestamp.dt.quarter.values\n",
    "    return df_daily"
   ]
  },
  {
   "cell_type": "code",
   "execution_count": null,
   "id": "7f92922f-4107-4989-84d6-9b3d3ec87cf3",
   "metadata": {},
   "outputs": [],
   "source": [
    "df = load_data('./data/Toronto Island Ferry Ticket Counts.csv')"
   ]
  },
  {
   "cell_type": "code",
   "execution_count": null,
   "id": "01a8ee08-8e44-4bb2-a73a-d8b7ff83a2f2",
   "metadata": {},
   "outputs": [],
   "source": [
    "rm = RedemptionModel(df, 'Redemption Count')\n",
    "rm.run_models()"
   ]
  },
  {
   "cell_type": "code",
   "execution_count": null,
   "id": "fffb44db-30dc-4954-ba78-863eda137b26",
   "metadata": {},
   "outputs": [],
   "source": [
    "# print model summary stats\n",
    "rm.results"
   ]
  }
 ],
 "metadata": {
  "kernelspec": {
   "display_name": "Python 3 (ipykernel)",
   "language": "python",
   "name": "python3"
  },
  "language_info": {
   "codemirror_mode": {
    "name": "ipython",
    "version": 3
   },
   "file_extension": ".py",
   "mimetype": "text/x-python",
   "name": "python",
   "nbconvert_exporter": "python",
   "pygments_lexer": "ipython3",
   "version": "3.10.10"
  }
 },
 "nbformat": 4,
 "nbformat_minor": 5
}
